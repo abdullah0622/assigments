myfirstname = "Joseph"
input("please enter first name")
if myfirstname:
    print("Hello, Joseph! The password is : @12")
else:
    print("Hello, Amina! See you later.")